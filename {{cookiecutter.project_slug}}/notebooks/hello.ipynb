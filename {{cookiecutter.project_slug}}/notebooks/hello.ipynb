{
 "cells": [
  {
   "cell_type": "code",
   "execution_count": null,
   "id": "b2acd861",
   "metadata": {},
   "outputs": [],
   "source": [
    "import {{ cookiecutter.project_slug }}\n",
    "{{ cookiecutter.project_slug }}.hello()"
   ]
  }
 ],
 "metadata": {
  "language_info": {
   "name": "python"
  }
 },
 "nbformat": 4,
 "nbformat_minor": 5
}
